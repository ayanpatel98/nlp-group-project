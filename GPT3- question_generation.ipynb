{
 "cells": [
  {
   "cell_type": "markdown",
   "metadata": {},
   "source": [
    "### Imports"
   ]
  },
  {
   "cell_type": "code",
   "execution_count": 113,
   "metadata": {},
   "outputs": [],
   "source": [
    "import pickle\n",
    "import numpy\n",
    "import pandas as pd\n",
    "\n",
    "import json\n",
    "import os\n",
    "import openai"
   ]
  },
  {
   "cell_type": "markdown",
   "metadata": {},
   "source": [
    "### Results Description:\n",
    "1. How many questions generated per video? 5\n",
    "2. What should be the format of the results generated, so that it is easier to evaluate during testing?\n",
    "    Currently, the results are stored in a JSON object.\n",
    "    {'video_id': [q1, q2, q3]}\n",
    "3. Prompt length is 100 to 900. \n",
    "\n",
    "\n",
    "### Challenges for Completion API:\n",
    "1. The prompt doesn't give similar results everytime. \n",
    "2. The sum of prompt and generation results should be less than the maximum length of the model.\n",
    "3. The data has to be preprocessed such that the prompt length is between 100 and 700, so that there is enough relevant content through which cohesive results can be generated. Preprocessing requires removing stopwords and also remove the dataset that is too large or too small."
   ]
  },
  {
   "cell_type": "code",
   "execution_count": 141,
   "metadata": {},
   "outputs": [],
   "source": [
    "with open('preprocessed_YoutubeData_668.pkl', 'rb') as file:\n",
    "    # Load the contents of the file using pickle.load()\n",
    "    data = pickle.load(file)"
   ]
  },
  {
   "cell_type": "code",
   "execution_count": 142,
   "metadata": {},
   "outputs": [
    {
     "name": "stdout",
     "output_type": "stream",
     "text": [
      "(192, 2)\n",
      "<bound method NDFrame.head of         Video_ID                                          Subtitles\n",
      "0    9MwScz5OFVY  the mg brand has been around since 1924 and si...\n",
      "1    826Nd2DQpEw  nate is a world leader in training and capacit...\n",
      "2    qT1QpkBG-bU  we get our meal prep so I wake up in the morni...\n",
      "3    MJZTcKXcLJc  what is the best vehicle access control system...\n",
      "4    9egAVV5J_WM  Amero engineering is an additive manufacturing...\n",
      "..           ...                                                ...\n",
      "187  dQ1xxoP7NJk  When did I start to forget All of the great th...\n",
      "188  yZIS65TJwxo  In this video I ll show you why you should spr...\n",
      "189  6qkNFQIi6jw  t 15 Championship battle e Rojo D15 Championsh...\n",
      "190  HD0atZKG2BY  I stopped talking you do not come up to me Dr ...\n",
      "191  I5G2BPydg7Y  foreign foreign foreign foreign foreign foreig...\n",
      "\n",
      "[192 rows x 2 columns]>\n",
      "3824\n"
     ]
    }
   ],
   "source": [
    "print(data.shape)\n",
    "print(data.head)\n",
    "print(numpy.max(data['Subtitles'].apply(len)))\n"
   ]
  },
  {
   "cell_type": "code",
   "execution_count": 170,
   "metadata": {
    "scrolled": false
   },
   "outputs": [
    {
     "data": {
      "text/plain": [
       "'nate is a world leader in training and capacity building over the past 40 years our polytechnic institution has worked with organizations in over 50 countries we train your workers to compete in a constantly evolving business and technology climate we can meet your training needs whether you operate in the private or public sector you can build a program using nate s established courses and certificates or create a totally customized program from the ground up we re flexible because we know every organization has unique needs nate works closely with its industry partners we will be with you every step of the way providing support before during and after your training and delivery the success of your workforce development program is our priority we know a skilled workforce leads to the improvement of your organization and the lives of people in your community make an inquiry today to learn more'"
      ]
     },
     "execution_count": 170,
     "metadata": {},
     "output_type": "execute_result"
    }
   ],
   "source": [
    "data['Subtitles'][1]"
   ]
  },
  {
   "cell_type": "code",
   "execution_count": 175,
   "metadata": {},
   "outputs": [],
   "source": [
    "# openai.organization = \"YOUR_ORG_ID\"\n",
    "openai.api_key = \"sk-3XIyTICDK1K2eBDpaxgNT3BlbkFJFfYuMyYs25N7oryZbp\"\n",
    "\n",
    "# Set the GPT-3 model ID\n",
    "#davinci is the most powerful model in gpt3\n",
    "model_id = \"text-davinci-002\""
   ]
  },
  {
   "cell_type": "markdown",
   "metadata": {},
   "source": [
    "### #Prompt Engineering\n",
    "\n",
    "Using the prompt below, we can generate 5 MCQs along with their answers.\n",
    "The top_p and temperature makes the model more deterministic, which helps control the randomness of the choices in the MCQs."
   ]
  },
  {
   "cell_type": "code",
   "execution_count": 176,
   "metadata": {},
   "outputs": [
    {
     "name": "stdout",
     "output_type": "stream",
     "text": [
      "\n",
      "   1. What does nate specialize in?\n",
      "   A. Training and capacity building\n",
      "   B. Business and technology\n",
      "   C. Established courses and certificates\n",
      "   D. Customized programs\n",
      "\n",
      "   Answer: A. Training and capacity building\n",
      "\n",
      "   2. How many countries has nate worked with in the past?\n",
      "   A. 10\n",
      "   B. 40\n",
      "   C. 50\n",
      "   D. Over 50\n",
      "\n",
      "   Answer: D. Over 50\n",
      "\n",
      "   3. Which of the following is not a service that nate offers?\n",
      "   A. Support before training\n",
      "   B. Delivery of training\n",
      "   C. Support after training\n",
      "   D. Consultation\n",
      "\n",
      "   Answer: D. Consultation\n",
      "\n",
      "   4. What is the main goal of nate?\n",
      "   A. To provide skilled workers for organizations\n",
      "   B. To improve the lives of people in the community\n",
      "   C. To work with industry partners\n",
      "   D. To be flexible\n",
      "\n",
      "   Answer: A. To provide skilled workers for organizations\n",
      "\n",
      "   5. What does a skilled workforce lead to?\n",
      "   A. The success of an organization\n",
      "   B. The improvement of an organization\n",
      "   C. The improvement of people's lives\n",
      "   D. All of the above\n",
      "\n",
      "   Answer: D. All of the above\n"
     ]
    }
   ],
   "source": [
    " prompt = f'''Generate FIVE different Multiple Choice Questions from the text. Provide the correct answer for each multiple choice question generated. \n",
    "    Text: nate is a world leader in training and capacity building over the past 40 years our polytechnic institution has worked with organizations in over 50 countries we train your workers to compete in a constantly evolving business and technology climate we can meet your training needs whether you operate in the private or public sector you can build a program using nate s established courses and certificates or create a totally customized program from the ground up we re flexible because we know every organization has unique needs nate works closely with its industry partners we will be with you every step of the way providing support before during and after your training and delivery the success of your workforce development program is our priority we know a skilled workforce leads to the improvement of your organization and the lives of people in your community make an inquiry today to learn mor\n",
    "    Answer:\n",
    "    '''\n",
    "\n",
    "result = openai.Completion.create(\n",
    "    engine=model_id,\n",
    "    prompt=prompt,\n",
    "    max_tokens=1024,\n",
    "    n=1,\n",
    "    top_p = 0.8,\n",
    "    temperature=0.6,\n",
    "    frequency_penalty=0.1,\n",
    "    presence_penalty=0.0,\n",
    ")\n",
    "\n",
    "print(result['choices'][0][\"text\"])"
   ]
  },
  {
   "cell_type": "markdown",
   "metadata": {},
   "source": [
    "### Observations\n",
    "\n",
    "#### Unprocessed Data\n",
    "1. Remove the Youtube Slangs, such as comments related to liking, commenting and subscribing. These tend to show up in the questions and answers. This is another form of preprocessing required specifically for our problem statement. \n"
   ]
  },
  {
   "cell_type": "markdown",
   "metadata": {},
   "source": [
    "### Results generation using Text Completion in GPT3"
   ]
  },
  {
   "cell_type": "code",
   "execution_count": 118,
   "metadata": {},
   "outputs": [],
   "source": [
    "# Function that generates the questions for a particular video.\n",
    "def send_to_gpt(text):\n",
    "    prompt = f'''Generate FIVE different Multiple Choice Questions from the text. \n",
    "    Provide the correct answer for each multiple choice question generated. \n",
    "    Text: {text} \n",
    "    Answer:'''\n",
    "\n",
    "    result = openai.Completion.create(\n",
    "        engine=model_id,\n",
    "        prompt=prompt,\n",
    "        max_tokens=1024,\n",
    "        n=1,\n",
    "        top_p = 0.8,\n",
    "        temperature=0.6,\n",
    "        frequency_penalty=0.1,\n",
    "        presence_penalty=0.0,\n",
    "    )\n",
    "\n",
    "    return result['choices'][0][\"text\"]\n"
   ]
  },
  {
   "cell_type": "code",
   "execution_count": 119,
   "metadata": {},
   "outputs": [
    {
     "name": "stdout",
     "output_type": "stream",
     "text": [
      "Directory already exists.\n"
     ]
    }
   ],
   "source": [
    "# Generate results in the directory\n",
    "dir_base = \"outputs\"\n",
    "\n",
    "# Define the directory path to check/create\n",
    "# dir_base = \"/path/to/directory\"\n",
    "\n",
    "# Check if the directory exists\n",
    "if not os.path.exists(dir_base):\n",
    "    # Create the directory if it does not exist\n",
    "    os.makedirs(dir_base)\n",
    "    print(\"Directory created!\")\n",
    "else:\n",
    "    print(\"Directory already exists.\")\n",
    "\n",
    "output_dict = {}\n"
   ]
  },
  {
   "cell_type": "code",
   "execution_count": null,
   "metadata": {
    "scrolled": true
   },
   "outputs": [],
   "source": [
    "# Get questions for all the captions for the YouTube dataset\n",
    "def perform_analysis(data):\n",
    "\n",
    "    for eachVideo in data.index:\n",
    "        id = data.iloc[eachVideo][0]\n",
    "        subtitle = data.iloc[eachVideo][1]\n",
    "        print(len(subtitle.split(' ')))\n",
    "        output = send_to_gpt(subtitle)\n",
    "\n",
    "        text_split = output.split('\\n\\n')\n",
    "\n",
    "        text_list = []\n",
    "\n",
    "        for i in range(len(text_split)):\n",
    "            if len(text_split[i]) > 0:\n",
    "                text_list.append(text_split[i])\n",
    "\n",
    "        output_dict[id] = text_list\n",
    "        \n",
    "    \n",
    "perform_analysis(data)\n"
   ]
  },
  {
   "cell_type": "code",
   "execution_count": 40,
   "metadata": {},
   "outputs": [],
   "source": [
    "# save the file \n",
    "file_path = dir_base + \"/run1\"\n",
    "\n",
    "with open(file_path, \"w\") as f:\n",
    "    json.dump(output_dict, f)\n"
   ]
  },
  {
   "cell_type": "code",
   "execution_count": 58,
   "metadata": {},
   "outputs": [
    {
     "name": "stdout",
     "output_type": "stream",
     "text": [
      "5. What is the institution's priority?\n",
      "a. The success of the workforce development program\n",
      "b. The improvement of the organization\n",
      "c. The lives of the people in the community\n",
      "d. All of the above\n"
     ]
    }
   ],
   "source": [
    "# read the file\n",
    "with open(file_path, \"r\") as f:\n",
    "    return_dict = json.load(f)\n",
    "    print(return_dict['826Nd2DQpEw'][4])\n",
    "#     print(return_dict.keys(), return_dict[list(return_dict.keys())[0]])\n"
   ]
  },
  {
   "cell_type": "markdown",
   "metadata": {},
   "source": [
    "### Verify the answers using GPT3."
   ]
  },
  {
   "cell_type": "code",
   "execution_count": null,
   "metadata": {
    "scrolled": false
   },
   "outputs": [],
   "source": [
    "# Verify the answers using GPT3. \n",
    "\n",
    "response = openai.Completion.create(\n",
    "  model=\"text-davinci-003\",\n",
    "  prompt='''I am a highly intelligent question answering bot. If you ask me a question that is rooted in truth, I will give you the answer. If you ask me a question that is nonsense, trickery, or has no clear answer, I will respond with \\\"Unknown\\\".\\n\\nQ: What was the name of the British mortar employed during the Crimean War?\n",
    "A. Little David\n",
    "B. Big Bertha\n",
    "C. Mallet's Mortar\n",
    "D. Paris Gun''',\n",
    "  temperature=0,\n",
    "  max_tokens=100,\n",
    "  top_p=1,\n",
    "  frequency_penalty=0.0,\n",
    "  presence_penalty=0.0,\n",
    "  \n",
    ")"
   ]
  },
  {
   "cell_type": "code",
   "execution_count": null,
   "metadata": {},
   "outputs": [],
   "source": [
    "response"
   ]
  },
  {
   "cell_type": "code",
   "execution_count": 37,
   "metadata": {},
   "outputs": [],
   "source": [
    "file_path = dir_base + \"/results_2.txt\"\n",
    "\n",
    "with open(file_path, \"w\") as f:\n",
    "    f.write(format(row_string))\n"
   ]
  },
  {
   "cell_type": "markdown",
   "metadata": {},
   "source": [
    "### Fine-tuned model Results Generation"
   ]
  },
  {
   "cell_type": "code",
   "execution_count": 164,
   "metadata": {},
   "outputs": [],
   "source": [
    "# Function that generates the questions for YouTube Subtitles using the fine-tuned model.\n",
    "def send_to_finetuned_gpt(text):\n",
    "    prompt = f''' {text} \\n\\n###\\n\\n'''\n",
    "\n",
    "    result = openai.Completion.create(\n",
    "        engine=\"davinci:ft-personal-2023-04-22-22-35-10\",\n",
    "        prompt=prompt,\n",
    "        max_tokens=1024,\n",
    "        n=1,\n",
    "        top_p = 0.8,\n",
    "    #     temperature=0.6,\n",
    "        frequency_penalty=0.1,\n",
    "        presence_penalty=0.0,\n",
    "    )\n",
    "#     print(result)\n",
    "    return result['choices'][0][\"text\"]\n"
   ]
  },
  {
   "cell_type": "code",
   "execution_count": 165,
   "metadata": {},
   "outputs": [],
   "source": [
    "def parse_fine_tune_result(text):\n",
    "    initial_split = text.split('\\n\\n')\n",
    "    final_ouput = []\n",
    "    count = len(initial_split)\n",
    "    i = 0\n",
    "    while (i < count and i < 6):\n",
    "        option1 = initial_split[i]\n",
    "        option2 = initial_split[i + 1]\n",
    "\n",
    "        q_flag = False\n",
    "        t_flag = False\n",
    "        if '?' in option1:\n",
    "            q_flag = True\n",
    "        if '_' in option1: \n",
    "            q_flag = True\n",
    "\n",
    "        if 'A.' in option2 and 'B.' in option2 and 'C.' in option2 and 'D.' in option2:\n",
    "            t_flag = True\n",
    "        \n",
    "        if q_flag and t_flag:\n",
    "            final_ouput.append(option1 + \"\\n\\n\" + option2)\n",
    "            i += 2\n",
    "        else:\n",
    "\n",
    "            print(\"Error\", option1, option2)\n",
    "            break\n",
    "    \n",
    "    return final_ouput"
   ]
  },
  {
   "cell_type": "code",
   "execution_count": null,
   "metadata": {
    "scrolled": false
   },
   "outputs": [],
   "source": [
    "def perform_analysis_finetuned(data):\n",
    "\n",
    "    for eachVideo in masked_data.index:\n",
    "        id = data.iloc[eachVideo][0]\n",
    "        subtitle = data.iloc[eachVideo][1]\n",
    "        print(len(subtitle.split(' ')))\n",
    "        output = send_to_finetuned_gpt(subtitle)\n",
    "       \n",
    "        text_list = parse_fine_tune_result(output)\n",
    "        output_dict[id] = text_list\n",
    "            \n",
    "perform_analysis_finetuned(data)\n"
   ]
  },
  {
   "cell_type": "code",
   "execution_count": 167,
   "metadata": {},
   "outputs": [],
   "source": [
    "file_path = dir_base + \"/finetune_run1\"\n",
    "\n",
    "with open(file_path, \"w\") as f:\n",
    "    json.dump(output_dict, f)\n",
    "# save the file \n"
   ]
  },
  {
   "cell_type": "code",
   "execution_count": 168,
   "metadata": {},
   "outputs": [],
   "source": [
    "# read the file\n",
    "with open(file_path, \"r\") as f:\n",
    "    return_dict = json.load(f)\n"
   ]
  },
  {
   "cell_type": "code",
   "execution_count": 108,
   "metadata": {},
   "outputs": [],
   "source": [
    "ans = openai.ChatCompletion.create(\n",
    "  model=\"gpt-3.5-turbo\",\n",
    "  messages=[\n",
    "        {\"role\": \"system\", \"content\": \"You are a question answer generation expert.\"},\n",
    "        {\"role\": \"user\", \"content\": \"Generate, 5 Multiple Choice Question and Answers for this text : Today I ll make a very small and pretty Mini Safe Let s start with making a cylinder form Check the size Marking Cutting I ll use water Okay Sharpening It has to be sophisticated Umm Good Holding Use a rubber band Marking Next Gluing Okay Le me put it Done Perfect Um great Let s check the overall size I ll draw a rough sketch wait a minute Check Okay Let s make a lid Done It s going to be like this right Gluing Cutting the overlapping parts I m going to cut the circle shape by using a wooden pattern decorative lines Good Mark the area for gluing Sanding Let me put it Sharpening For today s work Red color a symbol of wealth Edge Painting edges court heating Again Check the size This part will be finished in advance Let s match the dark brown on the inside Sharpening It has to be sophisticated Again Gluing Um It s amazing right Cut out the parts you don t need I m gonna drill a hole in this part Again Sharpening Punch the hole Okay This is the outside of the with the dial Pre Cutting Aga\"},\n",
    "    ]\n",
    ")"
   ]
  },
  {
   "cell_type": "code",
   "execution_count": 144,
   "metadata": {
    "scrolled": false
   },
   "outputs": [
    {
     "name": "stdout",
     "output_type": "stream",
     "text": [
      " Amero engineering is an additive manufacturing solution provider using   _  . \n",
      "\n",
      "A. selective laser melting\n",
      "B. direct laser deposition\n",
      "C. cutting edge technology\n",
      "D. leading research in additive manufacturing\n",
      "Answer = B\n",
      "\n",
      "The objective of this project was to create a technology demonstrator that would showcase Amira's expertise in   _  . \n",
      "\n",
      "A. selective laser melting\n",
      "B. direct laser deposition\n",
      "C. cutting edge technology\n",
      "D. leading research in additive manufacturing\n",
      "Answer = D\n",
      "\n",
      " According to the text what is the final design of the rocket engine? \n",
      "\n",
      "A. A narrow spike rocket engine with a unique multi chamber design.\n",
      "B. A spike nozzle engine that can be most efficient at any altitude compared to a conventional rocket nozzle design.\n",
      "C. A set one piece rocket design that could only be additively manufactured and beneficial in terms of performance outcomes of the design.\n",
      "D. A special rocket nozzle and that means that it can be most efficient at any altitude compared to a conventional rocket nozzle design.\n",
      "Answer = A\n",
      "\n",
      " What do you know about the project? \n",
      "\n",
      "A. It took advantage of what additive manufacturing could do in terms of enabling a set one piece rocket design.\n",
      "B. It is an example of something that could only be additively manufactured and beneficial in terms of the performance outcomes of the design.\n",
      "C. It reduced the project delivery time because they could generate prototypes and produce production just within a few days of receiving the design fire.\n",
      "D. It involved splitting up the design into small codes that each member of the team could write and then they wrote a larger framework which allowed them to tie all those particular codes back together.\n",
      "Answer = B\n",
      "\n",
      " What can we learn from this text? \n",
      "\n",
      " A. Amero engineering has developed an engine for a rocket with many combustion chambers and multiple thrust vectors using additive manufacturing solution provider using selective laser melting and direct laser deposition leveraging their partnership with Monash University they have access to cutting edge technology and leading research in additive manufacturing . \n",
      "B. Amero engineering has built an engine for a rocket with many combustion chambers and multiple thrust vectors with the assistance from Monash University they can benefit from their expertise in fluid mechanics . \n",
      "C. Amero engineering has built an engine for a rocket with many combustion chambers and multiple thrust vectors with the help from Monash University they can benefit from their expertise in fluid mechanics . \n",
      "D. Amero engineering has built an engine for a rocket with many combustion chambers and multiple thrust vectors leveraging their partnership with Monash University they have access to cutting edge technology and leading research in additive manufacturing . \n",
      "\n",
      " Answer = C\n",
      "\n",
      " Which statement is TRUE according to the text? \n",
      "\n",
      " A. The final design was a narrow spike rocket engine with a unique multi chamber design well basically the team went away and essentially worked together looking at the basic rocket equations looking at how large does a rocket need to be in terms of how much thrust it actually produces there a spike nozzle engine is special that it s also an altitude compensating rocket nozzle and that means that it can be most efficient at any altitude compared to a conventional rocket nozzle design which is only suited or designed to one particular altitude we ve also designed in multiple combustion chambers into the engine and these fins which divide the combustion chambers not only hold this bike but also allow us to investigate thrust vectoring potentially in the future . \n",
      "B. The final design was a narrow spike rocket engine well basically the team went away and essentially worked together looking at what could be next challenge building and validating an additively manufactured rocket engine building a rocket engine not only showed ability but demonstrated caliber of our local engineers we worked alongside them to develop an engine that would really show benefits of additive manufacturing . \n",
      "C. The final design was a narrow spike rocket engine well basically they went away and essentially worked together looking at what could be next challenge building and validating an additively manufactured rocket engine building a rocket engine not only showed ability but demonstrated caliber of our local engineers we worked alongside them to develop an engine that would really show benefits of additive manufacturing . \n",
      "D. The final design was a narrow spike rocket engine well basically they went away and essentially worked together looking at what could be next challenge building and validating an additively manufactured rocket engine building a rocket engine not only showed ability but demonstrated caliber of our local engineers we worked alongside them to develop an engine that would really show benefits of additive manufacturing . \n",
      "\n",
      " Answer = D\n",
      "\n",
      " Which statement is TRUE according to this text? \n",
      "\n",
      " A. They worked alongside them to develop an engine that would really show benefits of additive manufacturing . \n",
      "B. They took advantage of what additive manufacturing could do in terms of enabling production just within few days of receiving designs fire . \n",
      "C. They developed flight scalable engines including thrust vectoring along with their expertise in fluid mechanics . \n",
      "D. They split up the design into small codes each member of team could write then they wrote larger framework which allowed them tie all those particular codes back together . \n"
     ]
    }
   ],
   "source": [
    "print(result['choices'][0][\"text\"])"
   ]
  },
  {
   "cell_type": "code",
   "execution_count": null,
   "metadata": {},
   "outputs": [],
   "source": []
  }
 ],
 "metadata": {
  "kernelspec": {
   "display_name": "Python 3 (ipykernel)",
   "language": "python",
   "name": "python3"
  },
  "language_info": {
   "codemirror_mode": {
    "name": "ipython",
    "version": 3
   },
   "file_extension": ".py",
   "mimetype": "text/x-python",
   "name": "python",
   "nbconvert_exporter": "python",
   "pygments_lexer": "ipython3",
   "version": "3.10.4"
  }
 },
 "nbformat": 4,
 "nbformat_minor": 2
}
